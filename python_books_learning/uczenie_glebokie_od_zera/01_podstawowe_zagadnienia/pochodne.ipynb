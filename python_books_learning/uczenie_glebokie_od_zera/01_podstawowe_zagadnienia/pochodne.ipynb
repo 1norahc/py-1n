{
 "cells": [
  {
   "cell_type": "markdown",
   "metadata": {},
   "source": [
    "# Pochodne"
   ]
  },
  {
   "cell_type": "code",
   "execution_count": 1,
   "metadata": {},
   "outputs": [],
   "source": [
    "from typing import Callable"
   ]
  },
  {
   "cell_type": "code",
   "execution_count": 3,
   "metadata": {},
   "outputs": [
    {
     "ename": "NameError",
     "evalue": "name 'ndarray' is not defined",
     "output_type": "error",
     "traceback": [
      "\u001b[1;31m---------------------------------------------------------------------------\u001b[0m",
      "\u001b[1;31mNameError\u001b[0m                                 Traceback (most recent call last)",
      "\u001b[1;32m<ipython-input-3-2dd417d91412>\u001b[0m in \u001b[0;36m<module>\u001b[1;34m\u001b[0m\n\u001b[0;32m      1\u001b[0m \u001b[1;31m# Prezentacja kodu z przykładu\u001b[0m\u001b[1;33m\u001b[0m\u001b[1;33m\u001b[0m\u001b[1;33m\u001b[0m\u001b[0m\n\u001b[0;32m      2\u001b[0m \u001b[1;33m\u001b[0m\u001b[0m\n\u001b[1;32m----> 3\u001b[1;33m def deriv(func: Callable[[ndarray], ndarray],\n\u001b[0m\u001b[0;32m      4\u001b[0m           \u001b[0minput_\u001b[0m\u001b[1;33m:\u001b[0m \u001b[0mndarray\u001b[0m\u001b[1;33m,\u001b[0m\u001b[1;33m\u001b[0m\u001b[1;33m\u001b[0m\u001b[0m\n\u001b[0;32m      5\u001b[0m           delta: float = 0.001) -> ndarray:\n",
      "\u001b[1;31mNameError\u001b[0m: name 'ndarray' is not defined"
     ]
    }
   ],
   "source": [
    "# Prezentacja kodu z przykładu \n",
    "\n",
    "def deriv(func: Callable[[ndarray], ndarray],\n",
    "          input_: ndarray,\n",
    "          delta: float = 0.001) -> ndarray:\n",
    "\n",
    "    \"\"\"\n",
    "    Obliczanie pochodnej funkcji \"func\" dla każdego elemntu z tablicy \"input_\".\n",
    "    \"\"\"\n",
    "\n",
    "    return ( func(input_ + delta) - func(input_ - delta) ) / (2*delta) \n"
   ]
  },
  {
   "cell_type": "markdown",
   "metadata": {},
   "source": [
    "### Wyjaśnienie kodu\n",
    "\n",
    "Ten kod to funkcja o nazwie deriv, która oblicza przybliżoną pochodną funkcji `func` dla każdego elementu w tablicy `input_`. Funkcja przyjmuje trzy argumenty:\n",
    "\n",
    "1. `func`: Jest to funkcja, dla której obliczamy pochodną. Funkcja ta przyjmuje jedną argument funkcji, który jest tablicą NumPy (`ndarray`), i zwraca również tablicę NumPy (`ndarray`).\n",
    "\n",
    "2. `input_`: Jest to tablica NumPy, która zawiera dane wejściowe, dla których chcemy obliczyć pochodną.\n",
    "\n",
    "3. `delta`: Jest to parametr określający krok, który jest używany do obliczenia przybliżonej pochodnej. Domyślnie ustawiony jest na 0.001.\n",
    "\n",
    "Funkcja deriv używa przybliżonej metody różnicowej do obliczenia pochodnej. Dla każdego elementu w tablicy `input_`, oblicza różnicę funkcji func na wartości `input_ + delta` i `input_ - delta`, a następnie dzieli tę różnicę przez `2 * delta`, aby uzyskać przybliżoną pochodną."
   ]
  },
  {
   "cell_type": "code",
   "execution_count": 4,
   "metadata": {},
   "outputs": [],
   "source": [
    "# Test działania funkcji\n",
    "from typing import Callable\n",
    "import numpy as np"
   ]
  },
  {
   "cell_type": "code",
   "execution_count": 5,
   "metadata": {},
   "outputs": [],
   "source": [
    "def deriv(func: Callable[[np.ndarray], np.ndarray],\n",
    "          input_: np.ndarray,\n",
    "          delta: float = 0.001) -> np.ndarray:\n",
    "\n",
    "    return ( func(input_ + delta) - func(input_ - delta) ) / (2*delta)"
   ]
  },
  {
   "cell_type": "code",
   "execution_count": 8,
   "metadata": {},
   "outputs": [
    {
     "name": "stdout",
     "output_type": "stream",
     "text": [
      "f(x) = example_of_using_deriv(x)\n",
      "f(2) = 12\n"
     ]
    }
   ],
   "source": [
    "# Przykladowa funkcja, dla której obliczamy pochdona\n",
    "def example_of_using_deriv(x):\n",
    "    return x**2 + 3*x + 2\n",
    "print( \"f(x) = example_of_using_deriv(x)\")\n",
    "print(f\"f(2) = {example_of_using_deriv(2)}\")"
   ]
  },
  {
   "cell_type": "code",
   "execution_count": 9,
   "metadata": {},
   "outputs": [],
   "source": [
    "input_array = np.array([1.0, 2.0, 3.0, 4.0])"
   ]
  },
  {
   "cell_type": "code",
   "execution_count": 10,
   "metadata": {},
   "outputs": [],
   "source": [
    "result = deriv(example_of_using_deriv, input_array)"
   ]
  },
  {
   "cell_type": "code",
   "execution_count": 13,
   "metadata": {},
   "outputs": [
    {
     "data": {
      "text/plain": [
       "array([ 5.,  7.,  9., 11.])"
      ]
     },
     "execution_count": 13,
     "metadata": {},
     "output_type": "execute_result"
    }
   ],
   "source": [
    "result"
   ]
  },
  {
   "cell_type": "code",
   "execution_count": null,
   "metadata": {},
   "outputs": [],
   "source": []
  }
 ],
 "metadata": {
  "kernelspec": {
   "display_name": "base",
   "language": "python",
   "name": "python3"
  },
  "language_info": {
   "codemirror_mode": {
    "name": "ipython",
    "version": 3
   },
   "file_extension": ".py",
   "mimetype": "text/x-python",
   "name": "python",
   "nbconvert_exporter": "python",
   "pygments_lexer": "ipython3",
   "version": "3.8.5"
  },
  "orig_nbformat": 4
 },
 "nbformat": 4,
 "nbformat_minor": 2
}
