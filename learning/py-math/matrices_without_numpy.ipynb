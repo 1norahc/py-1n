{
 "cells": [
  {
   "cell_type": "markdown",
   "metadata": {},
   "source": [
    "# Matrices in Python without NumPy\n",
    "\n",
    "Pionowe rzędy obiektów w macierzy Pythona są zwykle nazywane „kolumnami”, a poziome rzędy obiektów nazywane są „rzędami”. Wiersze i kolumny są umieszczane jeden na drugim, podobnie jak listy zagnieżdżone. Jeśli macierz ma „k” wierszy i „m” kolumn, gdzie „k” i „m” są dodatnimi liczbami całkowitymi, to kolejność takiego obiektu macierzy jest określona przez „k wierszy i m kolumn”.\n",
    "Macierze mogą zawierać ciągi znaków, liczby i obiekty innych typów danych. W macierzy dane są ułożone zarówno w kolumnach, jak i wierszach. Ważną strukturą danych, która wspiera obliczenia naukowe i matematyczne, jest macierz. Python nie zapewnia wbudowanego typu dla obiektów macierzowych, więc traktuje listy między listami\n"
   ]
  },
  {
   "cell_type": "markdown",
   "metadata": {},
   "source": [
    "## How Matrices in Python Work\n",
    "\n",
    "Utwórz macierz, zapisując dane do dwuwymiarowej tablicy. Oto kroki:\n",
    "\n",
    "<code> \n",
    "[\n",
    "    [1 3 5 7 9 ]    \n",
    "    [2 4 6 8 10]  \n",
    "    [0 8 7 4]\n",
    "]\n",
    "</code>\n",
    "\n",
    "Za wyświetlacz służy matryca 3x5. Więc jego rozmiar to 3 x 5. Dane w tej tablicy składają się z obiektów jednego z typów danych całkowitych. Górny rząd rząd1 ma wartości 1, 3, 5, 7, 9, natomiast rząd2 i rząd3 mają odpowiednio wartości (2, 4, 6, 8) i (0, 8, 7, 4). Kolumna 1 zawiera wartości (1,2,0), a Kolumna 2 zawiera wartości (3,4,8). Python umożliwia przechowywanie wszystkich danych w dwuwymiarowej macierzy. Na macierzach można wykonywać takie operacje, jak dodawanie, mnożenie i transpozycja. Tablice umożliwiają tworzenie macierzy Pythona i używanie ich w podobny sposób. Porozmawiajmy o różnych przykładach macierzy"
   ]
  },
  {
   "cell_type": "markdown",
   "metadata": {},
   "source": [
    "## Python Matrix Addition"
   ]
  },
  {
   "cell_type": "code",
   "execution_count": 9,
   "metadata": {},
   "outputs": [
    {
     "data": {
      "text/plain": [
       "([[2, 4, 1], [4, 1, 5], [3, 6, 7]],\n",
       " [[4, 2, -1], [5, 6, -3], [0, -4, 3]],\n",
       " [[0, 1, 0], [1, 0, 0], [0, 0, 1]],\n",
       " [[0, 0, 1], [0, 1, 0], [1, 0, 0]])"
      ]
     },
     "execution_count": 9,
     "metadata": {},
     "output_type": "execute_result"
    }
   ],
   "source": [
    "matrix1 = [[2, 4, 1],    \n",
    "           [4, 1, 5],    \n",
    "           [3, 6, 7]]    \n",
    "   \n",
    "matrix2 = [[4, 2, -1],    \n",
    "           [5, 6, -3],    \n",
    "           [0, -4, 3]]    \n",
    "   \n",
    "matrix3  = [[0,1,0],    \n",
    "            [1,0,0],    \n",
    "            [0,0,1]]  \n",
    " \n",
    "matrix4  = [[0,0,1],    \n",
    "            [0,1,0],    \n",
    "            [1,0,0]]  \n",
    "\n",
    "matrix1, matrix2, matrix3, matrix4"
   ]
  },
  {
   "cell_type": "code",
   "execution_count": 3,
   "metadata": {},
   "outputs": [
    {
     "data": {
      "text/plain": [
       "3"
      ]
     },
     "execution_count": 3,
     "metadata": {},
     "output_type": "execute_result"
    }
   ],
   "source": [
    "matrices_length = len(matrix1)\n",
    "matrices_length"
   ]
  },
  {
   "cell_type": "code",
   "execution_count": 4,
   "metadata": {},
   "outputs": [],
   "source": [
    "for row in range(len(matrix1)):\n",
    "    for column in range(len(matrix2[0])):\n",
    "        matrix4[row][column] = matrix1[row][column] + matrix2[row][column] + matrix3[row][column]"
   ]
  },
  {
   "cell_type": "code",
   "execution_count": 5,
   "metadata": {},
   "outputs": [
    {
     "name": "stdout",
     "output_type": "stream",
     "text": [
      "Suma macierzy = [[6, 7, 0], [10, 7, 2], [3, 2, 11]]\n"
     ]
    }
   ],
   "source": [
    "print(f\"Suma macierzy = {matrix4}\")"
   ]
  },
  {
   "cell_type": "markdown",
   "metadata": {},
   "source": [
    "Zamiast używać NumPy, najpierw bezpośrednio stworzyłem 3 macierze w kolejności 3x3. Kolejność i długość macierzy 1 są określane odpowiednio za pomocą funkcji len(). Najpierw dodano trzy macierze za pomocą zagnieżdżonych pętli. Suma trzech macierzy została podana jako macierz 4, a do wyświetlenia wyników użyłem funkcji print(). \n",
    "\n",
    "<code>Suma macierzy = [[6, 7, 0], [10, 7, 2], [3, 2, 11]] </code>"
   ]
  },
  {
   "cell_type": "markdown",
   "metadata": {},
   "source": [
    "## Transpose a Matrix in Python\n",
    "Zamieniając kolumny macierzy i elementy wierszy, możesz je transponować. Wykorzystuje różne przykłady, aby pokazać, jak uzyskać transpozycję macierzy w Pythonie bez użycia NumPy.\n",
    "\n",
    "Transpozycja macierzy jest oznaczona symbolem At. Załóżmy, że mamy macierz „A” o następującej kolejności:\n",
    "\n",
    "\n",
    "3 x 2\n",
    "\n",
    "Wtedy transpozycja A wynosi\n",
    "\n",
    "maceirz 2 x 3"
   ]
  },
  {
   "cell_type": "markdown",
   "metadata": {},
   "source": [
    "## Calculating Transpose of a Matrix With the Help of a Nested Loop\n",
    "Pętle zagnieżdżone umożliwiają również iterację po kolumnach i wierszach zagnieżdżonych list. Uzyskaj transpozycję macierzy, wstawiając wiersz „ith” i element kolumny „j” macierzy F obok wiersza „j” i kolumny „ith” macierzy „F^T” . „F^T” to macierz 2 x 3. Ale „F” to macierz 3 x 2. "
   ]
  },
  {
   "cell_type": "code",
   "execution_count": 8,
   "metadata": {},
   "outputs": [
    {
     "data": {
      "text/plain": [
       "([[2, 3], [5, 7], [8, 1]], [[0, 0, 0], [0, 0, 0]])"
      ]
     },
     "execution_count": 8,
     "metadata": {},
     "output_type": "execute_result"
    }
   ],
   "source": [
    "F = [[2, 3],\n",
    "     [5, 7],\n",
    "     [8, 1]]\n",
    "\n",
    "F_T = [[0, 0, 0],\n",
    "       [0, 0, 0]]\n",
    "F, F_T"
   ]
  },
  {
   "cell_type": "code",
   "execution_count": 10,
   "metadata": {},
   "outputs": [],
   "source": [
    "for q in range(len(F)):\n",
    "    for w in range(len(F[0])):\n",
    "        F_T[w][q] = F[q][w]"
   ]
  },
  {
   "cell_type": "code",
   "execution_count": 11,
   "metadata": {},
   "outputs": [
    {
     "name": "stdout",
     "output_type": "stream",
     "text": [
      "[2, 5, 8]\n",
      "[3, 7, 1]\n"
     ]
    }
   ],
   "source": [
    "for q in F_T:\n",
    "    print(q)"
   ]
  },
  {
   "cell_type": "markdown",
   "metadata": {},
   "source": [
    "Najpierw tworzona jest transpozycja oryginalnej macierzy i macierz „F” 3 na 2. Poprzedni program używa zagnieżdżonych pętli „for”, które kolejno wykonują iterację po każdym wierszu, a następnie po każdej kolumnie. W każdej iteracji dodawaj elementy od „F[q][w]” do „FT[w][q]”. Na koniec uruchom metodę print(), aby wyświetlić transpozycję. "
   ]
  },
  {
   "cell_type": "markdown",
   "metadata": {},
   "source": [
    "## Using a Nested List Comprehension to Find the Transpose of the Matrix\n",
    "Listy zagnieżdżone są tworzone, gdy rozumienie listy jest wykonywane w ramach innego rozumienia listy. Składnia ułatwiająca zrozumienie zagnieżdżonych list to:\n",
    "\n",
    "<code> new_list = [[expr. for a list item] for a list item]</code>\n",
    "\n",
    "Podobnie zrozumienie zagnieżdżonych list w podejściu z zagnieżdżonymi pętlami, takie jak to, może być wykorzystane do uzyskania transpozycji macierzy. "
   ]
  },
  {
   "cell_type": "code",
   "execution_count": 12,
   "metadata": {},
   "outputs": [
    {
     "data": {
      "text/plain": [
       "[[1, 3], [4, 6], [9, 2]]"
      ]
     },
     "execution_count": 12,
     "metadata": {},
     "output_type": "execute_result"
    }
   ],
   "source": [
    "J = [[1, 3],\n",
    "     [4, 6],\n",
    "     [9, 2]]\n",
    "J"
   ]
  },
  {
   "cell_type": "code",
   "execution_count": 13,
   "metadata": {},
   "outputs": [
    {
     "data": {
      "text/plain": [
       "[[1, 4, 9], [3, 6, 2]]"
      ]
     },
     "execution_count": 13,
     "metadata": {},
     "output_type": "execute_result"
    }
   ],
   "source": [
    "J_T = [[J[v][c] for v in range(len(J))] for c in range(len(J[0]))]\n",
    "J_T"
   ]
  },
  {
   "cell_type": "code",
   "execution_count": 14,
   "metadata": {},
   "outputs": [
    {
     "name": "stdout",
     "output_type": "stream",
     "text": [
      "[1, 4, 9]\n",
      "[3, 6, 2]\n"
     ]
    }
   ],
   "source": [
    "for c in J_T:\n",
    "    print(c)"
   ]
  },
  {
   "cell_type": "markdown",
   "metadata": {},
   "source": [
    "Najpierw utwórz macierz „J” rzędu 3x2. Zagnieżdżona lista składana w poprzednim kodzie wykonuje iterację raz po każdym elemencie macierzy i wstawia element „J[v]” w dowolnym miejscu w „J_T[v]”. Kolumny macierzy są iterowane w pierwszej części takiego zagnieżdżonego rozumienia listy, a jej wiersze są iterowane w drugiej kolumnie. "
   ]
  },
  {
   "cell_type": "markdown",
   "metadata": {},
   "source": [
    "## Multiplication of Two Matrices in Python\n",
    "Binarny proces mnożenia macierzy tworzy macierz z dwóch macierzy. Możesz mnożyć macierze w Pythonie za pomocą zagnieżdżonych pętli i wyrażeń listowych.\n",
    "\n",
    "\n",
    "Aby wykonać mnożenie macierzy, liczba kolumn w pierwszej macierzy musi odpowiadać liczbie wierszy w drugiej macierzy. Ostateczna macierz będąca wynikiem mnożenia macierzy ma taki sam porządek jak oryginalna macierz. Schemat mnożenia macierzy pokazano poniżej. "
   ]
  },
  {
   "cell_type": "markdown",
   "metadata": {},
   "source": [
    "## Using Nested List to Find Multiplication of Matrix\n",
    "W Pythonie macierze można konstruować jako po prostu zagnieżdżone listy, czyli coś więcej niż tylko listy w listach. Wiersz macierzy odpowiada każdej wartości na zagnieżdżonej liście. Przyjrzyjmy się przykładowi zagnieżdżonych pętli używanych do mnożenia dwóch macierzy. "
   ]
  },
  {
   "cell_type": "code",
   "execution_count": 16,
   "metadata": {},
   "outputs": [
    {
     "data": {
      "text/plain": [
       "[[9, 1, 7], [3, 5, 6], [4, 7, 8]]"
      ]
     },
     "execution_count": 16,
     "metadata": {},
     "output_type": "execute_result"
    }
   ],
   "source": [
    "N = [[9, 1, 7],\n",
    "     [3, 5, 6],\n",
    "     [4, 7, 8]]\n",
    "N\n"
   ]
  },
  {
   "cell_type": "code",
   "execution_count": 17,
   "metadata": {},
   "outputs": [
    {
     "data": {
      "text/plain": [
       "[[2, 3, 5, 6], [8, 9, 1, 2], [4, 5, 9, 3]]"
      ]
     },
     "execution_count": 17,
     "metadata": {},
     "output_type": "execute_result"
    }
   ],
   "source": [
    "\n",
    "M = [[2, 3, 5, 6],\n",
    "     [8, 9, 1, 2],\n",
    "     [4, 5, 9, 3]]\n",
    "M\n"
   ]
  },
  {
   "cell_type": "code",
   "execution_count": 18,
   "metadata": {},
   "outputs": [
    {
     "data": {
      "text/plain": [
       "[[0, 0, 0, 0], [0, 0, 0, 0], [0, 0, 0, 0]]"
      ]
     },
     "execution_count": 18,
     "metadata": {},
     "output_type": "execute_result"
    }
   ],
   "source": [
    "\n",
    "result = [[0, 0, 0, 0],\n",
    "          [0, 0, 0, 0],\n",
    "          [0, 0, 0, 0]]\n",
    "result"
   ]
  },
  {
   "cell_type": "code",
   "execution_count": 19,
   "metadata": {},
   "outputs": [],
   "source": [
    "for u in range(len(N)):\n",
    "    for o in range(len(M[0])):\n",
    "        for p in range(len(M)):\n",
    "            result[u][o] += N[u][p] * M[p][o]"
   ]
  },
  {
   "cell_type": "code",
   "execution_count": 20,
   "metadata": {},
   "outputs": [
    {
     "name": "stdout",
     "output_type": "stream",
     "text": [
      "[54, 71, 109, 77]\n",
      "[70, 84, 74, 46]\n",
      "[96, 115, 99, 62]\n"
     ]
    }
   ],
   "source": [
    "for d in result:\n",
    "    print(d)"
   ]
  },
  {
   "cell_type": "markdown",
   "metadata": {},
   "source": [
    "Ten przykład uruchamia program, który używa zagnieżdżonych pętli do mnożenia dwóch macierzy. Ale wcześniej wygenerujmy dwie macierze „N” i „M”, 3 na 3 i 3 na 3. Trzecia macierz rzędu 3 × 4 pomnożona przez 4 w kolejności. Następnie wykonaj proces iteracyjny, używając elementów w wierszach „N”, kolumnach „M” i wierszach „M”. Zastosowałem instrukcję print, aby wyświetlić zdefiniowane mnożenie macierzy. "
   ]
  },
  {
   "cell_type": "markdown",
   "metadata": {},
   "source": [
    "## Utilizing Nested List Comprehension to Find Multiplication of Matrices\n",
    "Zagnieżdżone rozumienie listy to proces wykonywania rozumienia listy w ramach rozumienia listy, w wyniku czego powstaje rodzaj zagnieżdżonej listy.\n",
    "\n",
    "syntax:\n",
    "\n",
    "\n",
    "<code> new_list = [[expr. for a list item] for a list item] </code>\n",
    "\n",
    "Podobnie, to samo podejście z zagnieżdżonymi pętlami może być użyte do łatwego wykonania mnożenia dwóch macierzy przy użyciu metody zagnieżdżonej listy ze"
   ]
  },
  {
   "cell_type": "code",
   "execution_count": 21,
   "metadata": {},
   "outputs": [
    {
     "data": {
      "text/plain": [
       "[[8, 1, 3], [8, 7, 3], [7, 3, 5]]"
      ]
     },
     "execution_count": 21,
     "metadata": {},
     "output_type": "execute_result"
    }
   ],
   "source": [
    "E = [[8, 1, 3],\n",
    "     [8, 7, 3],\n",
    "     [7, 3, 5]]\n",
    "E"
   ]
  },
  {
   "cell_type": "code",
   "execution_count": 22,
   "metadata": {},
   "outputs": [
    {
     "data": {
      "text/plain": [
       "[[2, 3, 6, 8], [9, 8, 5, 3], [1, 3, 8, 9]]"
      ]
     },
     "execution_count": 22,
     "metadata": {},
     "output_type": "execute_result"
    }
   ],
   "source": [
    "R = [[2, 3, 6, 8],\n",
    "     [9, 8, 5, 3],\n",
    "     [1, 3, 8, 9]]\n",
    "R"
   ]
  },
  {
   "cell_type": "code",
   "execution_count": 23,
   "metadata": {},
   "outputs": [
    {
     "data": {
      "text/plain": [
       "[[28, 41, 77, 94], [82, 89, 107, 112], [46, 60, 97, 110]]"
      ]
     },
     "execution_count": 23,
     "metadata": {},
     "output_type": "execute_result"
    }
   ],
   "source": [
    "result = [[sum(f*g for f, g in zip(E_row, R_col))\n",
    "           for R_col in zip(*R)] for E_row in E]\n",
    "result"
   ]
  },
  {
   "cell_type": "code",
   "execution_count": 24,
   "metadata": {},
   "outputs": [
    {
     "name": "stdout",
     "output_type": "stream",
     "text": [
      "[28, 41, 77, 94]\n",
      "[82, 89, 107, 112]\n",
      "[46, 60, 97, 110]\n"
     ]
    }
   ],
   "source": [
    "for z in result:\n",
    "    print(z)"
   ]
  },
  {
   "cell_type": "markdown",
   "metadata": {},
   "source": [
    "Aby uzyskać sumę iloczynów mnożenia dla każdego wiersza, wykonaj iterację po kolumnach macierzy „R” i wierszach macierzy „E” w swoim programie. Aby uzyskać kolumny macierzy „R”, użyj metody zip(). Aby obliczyć sumę iloczynów każdego wiersza na liście zagnieżdżonej, potrzebujemy elementów wierszy macierzy „E” jako drugiego składnika rozumienia listy zagnieżdżonej. Na koniec używana jest instrukcja print. "
   ]
  },
  {
   "cell_type": "markdown",
   "metadata": {},
   "source": [
    "## Conclusion\n",
    "Ta lekcja przedstawia kilka innych sposobów ręcznego obliczania dodawania macierzy, mnożenia i transpozycji zamiast używania NumPy. Podejścia te obejmują listy zagnieżdżone, a także zrozumienie list zagnieżdżonych. Ponadto przedstawiono kilka programów demonstrujących, w jaki sposób można wykorzystać te podejścia, aby zachowywały się inaczej podczas dodawania, mnożenia i transponowania macierzy. "
   ]
  }
 ],
 "metadata": {
  "kernelspec": {
   "display_name": "Python 3",
   "language": "python",
   "name": "python3"
  },
  "language_info": {
   "codemirror_mode": {
    "name": "ipython",
    "version": 3
   },
   "file_extension": ".py",
   "mimetype": "text/x-python",
   "name": "python",
   "nbconvert_exporter": "python",
   "pygments_lexer": "ipython3",
   "version": "3.9.1"
  },
  "orig_nbformat": 4
 },
 "nbformat": 4,
 "nbformat_minor": 2
}
