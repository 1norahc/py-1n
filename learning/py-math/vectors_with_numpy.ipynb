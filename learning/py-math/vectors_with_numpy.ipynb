{
 "cells": [
  {
   "cell_type": "markdown",
   "metadata": {},
   "source": [
    "# Vectors in python with Numpy lib"
   ]
  },
  {
   "cell_type": "code",
   "execution_count": 2,
   "metadata": {},
   "outputs": [
    {
     "data": {
      "text/plain": [
       "'1.24.3'"
      ]
     },
     "execution_count": 2,
     "metadata": {},
     "output_type": "execute_result"
    }
   ],
   "source": [
    "# Importing numpy\n",
    "import numpy as np\n",
    "\n",
    "# Checking numpy version\n",
    "np.__version__"
   ]
  },
  {
   "cell_type": "markdown",
   "metadata": {},
   "source": [
    "## Creation of a Vector in Python\n",
    "**Syntax --> numpy.array(list)**"
   ]
  },
  {
   "cell_type": "markdown",
   "metadata": {},
   "source": [
    "### Example 1: *Horizontal Vecotr*"
   ]
  },
  {
   "cell_type": "code",
   "execution_count": 5,
   "metadata": {},
   "outputs": [],
   "source": [
    "test_data_list = [1, 2, 3, 4, 5]"
   ]
  },
  {
   "cell_type": "code",
   "execution_count": 7,
   "metadata": {},
   "outputs": [],
   "source": [
    "vector = np.array(test_data_list)\n",
    "vector = np.array(test_data_list)"
   ]
  },
  {
   "cell_type": "code",
   "execution_count": 12,
   "metadata": {},
   "outputs": [
    {
     "name": "stdout",
     "output_type": "stream",
     "text": [
      "Vector created from a list: [1 2 3 4 5]\n",
      "\n",
      "Example: \n",
      "\t List -> [1, 2, 3, 4, 5] \n",
      "\t Vector -> [1 2 3 4 5]\n"
     ]
    }
   ],
   "source": [
    "print(f\"Vector created from a list: {vector}\\n\")\n",
    "print(f\"Example: \\n\\t List -> {test_data_list} \\n\\t Vector -> {vector}\")"
   ]
  },
  {
   "cell_type": "markdown",
   "metadata": {},
   "source": [
    "### Example 2: *Vertical Vector*"
   ]
  },
  {
   "cell_type": "code",
   "execution_count": 13,
   "metadata": {},
   "outputs": [
    {
     "data": {
      "text/plain": [
       "[1, 2, 3, 4, 5]"
      ]
     },
     "execution_count": 13,
     "metadata": {},
     "output_type": "execute_result"
    }
   ],
   "source": [
    "test_data_list_2 = [\n",
    "    [2],\n",
    "    [4],\n",
    "    [6],\n",
    "    [10]\n",
    "]\n",
    "test_data_list"
   ]
  },
  {
   "cell_type": "code",
   "execution_count": 14,
   "metadata": {},
   "outputs": [],
   "source": [
    "vector_2 = np.array(test_data_list_2)\n",
    "vector_2 = np.array(test_data_list_2)"
   ]
  },
  {
   "cell_type": "code",
   "execution_count": 18,
   "metadata": {},
   "outputs": [
    {
     "name": "stdout",
     "output_type": "stream",
     "text": [
      "Vector created from a list2: [[ 2]\n",
      " [ 4]\n",
      " [ 6]\n",
      " [10]]\n",
      "\n",
      "Example: \n",
      "\t List -> [[2], [4], [6], [10]] \n",
      "\t Vector -> [[ 2]\n",
      " [ 4]\n",
      " [ 6]\n",
      " [10]]\n"
     ]
    }
   ],
   "source": [
    "print(f\"Vector created from a list2: {vector_2}\\n\")\n",
    "\n",
    "print(f\"Example: \\n\\t List -> {test_data_list_2} \\n\\t Vector -> {vector_2}\")"
   ]
  },
  {
   "cell_type": "markdown",
   "metadata": {},
   "source": [
    "# Basic Operations on a Python Vector"
   ]
  },
  {
   "cell_type": "markdown",
   "metadata": {},
   "source": [
    "## 1. Performing addition operation on a Python Vector \n",
    "**Syntax: vector + vector**"
   ]
  },
  {
   "cell_type": "code",
   "execution_count": 19,
   "metadata": {},
   "outputs": [],
   "source": [
    "test_data_list_1 = [10, 20, 30, 40, 50]\n",
    "test_data_list_2 = [1, 2, 3, 4, 5]"
   ]
  },
  {
   "cell_type": "code",
   "execution_count": 21,
   "metadata": {},
   "outputs": [],
   "source": [
    "vec1 = np.array(test_data_list_1)\n",
    "vec2 = np.array(test_data_list_2)"
   ]
  },
  {
   "cell_type": "code",
   "execution_count": 22,
   "metadata": {},
   "outputs": [
    {
     "name": "stdout",
     "output_type": "stream",
     "text": [
      "Vector created from a list 1: [10 20 30 40 50]\n",
      "Vector created from a list 2: [1 2 3 4 5]\n"
     ]
    }
   ],
   "source": [
    "print(f\"Vector created from a list 1: {vec1}\")\n",
    "print(f\"Vector created from a list 2: {vec2}\") "
   ]
  },
  {
   "cell_type": "code",
   "execution_count": 23,
   "metadata": {},
   "outputs": [],
   "source": [
    "vec_add = vec1 + vec2 "
   ]
  },
  {
   "cell_type": "code",
   "execution_count": 25,
   "metadata": {},
   "outputs": [
    {
     "name": "stdout",
     "output_type": "stream",
     "text": [
      "Addition of two vectors: [11 22 33 44 55]\n"
     ]
    }
   ],
   "source": [
    "print(f\"Addition of two vectors: {vec_add}\")"
   ]
  },
  {
   "cell_type": "markdown",
   "metadata": {},
   "source": [
    "## 2. Performing Subtraction of two vectors\n",
    "**Syntax --> vector - vector**"
   ]
  },
  {
   "cell_type": "code",
   "execution_count": 26,
   "metadata": {},
   "outputs": [],
   "source": [
    "test_data_list_1 = [10, 20, 30, 40, 50]\n",
    "test_data_list_2 = [1, 2, 3, 4, 5]"
   ]
  },
  {
   "cell_type": "code",
   "execution_count": 27,
   "metadata": {},
   "outputs": [],
   "source": [
    "vec1 = np.array(test_data_list_1)\n",
    "vec2 = np.array(test_data_list_2)"
   ]
  },
  {
   "cell_type": "code",
   "execution_count": 28,
   "metadata": {},
   "outputs": [
    {
     "name": "stdout",
     "output_type": "stream",
     "text": [
      "Vector created from a list 1: [10 20 30 40 50]\n",
      "Vector created from a list 2: [1 2 3 4 5]\n"
     ]
    }
   ],
   "source": [
    "print(f\"Vector created from a list 1: {vec1}\")\n",
    "print(f\"Vector created from a list 2: {vec2}\") "
   ]
  },
  {
   "cell_type": "code",
   "execution_count": 35,
   "metadata": {},
   "outputs": [],
   "source": [
    "vec_sub = vec1 - vec2 "
   ]
  },
  {
   "cell_type": "code",
   "execution_count": 36,
   "metadata": {},
   "outputs": [
    {
     "name": "stdout",
     "output_type": "stream",
     "text": [
      "Subtraction of two vectors: [ 9 18 27 36 45]\n"
     ]
    }
   ],
   "source": [
    "print(f\"Subtraction of two vectors: {vec_sub}\")"
   ]
  },
  {
   "cell_type": "markdown",
   "metadata": {},
   "source": [
    "## 3. Performing multiplication of two vectors\n",
    "**Syntax --> vector * vector**\n",
    "\n",
    "***Vector multiplication*** multiplies the elements of vector 1 by the elements of vector 2, and the product vector has the same length as the multiplication vector.\n",
    "\n",
    "Let's visualize the multiplication operation:\n",
    "\n",
    "x = [10,20] and y = [1,2] are two vectors. So the product vector would be v[ ],\n",
    "\n",
    "***v[0] = x[0] * y[0]***\n",
    "\n",
    "***v[1] = x[1] * y[1]***"
   ]
  },
  {
   "cell_type": "code",
   "execution_count": 37,
   "metadata": {},
   "outputs": [],
   "source": [
    "test_data_list_1 = [10, 20, 30, 40, 50]\n",
    "test_data_list_2 = [1, 2, 3, 4, 5]"
   ]
  },
  {
   "cell_type": "code",
   "execution_count": 38,
   "metadata": {},
   "outputs": [],
   "source": [
    "vec1 = np.array(test_data_list_1)\n",
    "vec2 = np.array(test_data_list_2)\n"
   ]
  },
  {
   "cell_type": "code",
   "execution_count": 39,
   "metadata": {},
   "outputs": [
    {
     "data": {
      "text/plain": [
       "(array([10, 20, 30, 40, 50]), array([1, 2, 3, 4, 5]))"
      ]
     },
     "execution_count": 39,
     "metadata": {},
     "output_type": "execute_result"
    }
   ],
   "source": [
    "vec1, vec2"
   ]
  },
  {
   "cell_type": "code",
   "execution_count": 44,
   "metadata": {},
   "outputs": [],
   "source": [
    "vec_mul = vec1 * vec2 "
   ]
  },
  {
   "cell_type": "code",
   "execution_count": 45,
   "metadata": {},
   "outputs": [
    {
     "data": {
      "text/plain": [
       "array([ 10,  40,  90, 160, 250])"
      ]
     },
     "execution_count": 45,
     "metadata": {},
     "output_type": "execute_result"
    }
   ],
   "source": [
    "vec_mul"
   ]
  },
  {
   "cell_type": "markdown",
   "metadata": {},
   "source": [
    "## 4. Performing Vector division operation\n",
    "**Syntax --> vector/vector**\n",
    "\n",
    "***In vector division.*** The resulting vector is the quotient values ​​after performing a division operation on the two vectors.\n",
    "\n",
    "For better understanding, consider the following example. \n",
    "\n",
    "x = [10,20] and y = [1,2] are two vectors. So the resultant vector v would be,\n",
    "\n",
    "**v[0] = x[0] / y[0]**\n",
    "\n",
    "**v[1] = x[1] / y[1]**"
   ]
  },
  {
   "cell_type": "code",
   "execution_count": 47,
   "metadata": {},
   "outputs": [
    {
     "data": {
      "text/plain": [
       "([10, 20, 30, 40, 50], [10, 20, 30, 40, 50])"
      ]
     },
     "execution_count": 47,
     "metadata": {},
     "output_type": "execute_result"
    }
   ],
   "source": [
    "test_data_list_1 = [10, 20, 30, 40, 50]\n",
    "test_data_list_2 = [10, 20, 30, 40, 50]\n",
    "\n",
    "test_data_list_1, test_data_list_2"
   ]
  },
  {
   "cell_type": "code",
   "execution_count": 49,
   "metadata": {},
   "outputs": [
    {
     "data": {
      "text/plain": [
       "(array([10, 20, 30, 40, 50]), array([10, 20, 30, 40, 50]))"
      ]
     },
     "execution_count": 49,
     "metadata": {},
     "output_type": "execute_result"
    }
   ],
   "source": [
    "vec1 = np.array(test_data_list_1)\n",
    "vec2 = np.array(test_data_list_2)\n",
    "\n",
    "vec1, vec2"
   ]
  },
  {
   "cell_type": "code",
   "execution_count": 51,
   "metadata": {},
   "outputs": [
    {
     "data": {
      "text/plain": [
       "array([1., 1., 1., 1., 1.])"
      ]
     },
     "execution_count": 51,
     "metadata": {},
     "output_type": "execute_result"
    }
   ],
   "source": [
    "vec_div = vec1 / vec2\n",
    "\n",
    "vec_div"
   ]
  },
  {
   "cell_type": "markdown",
   "metadata": {},
   "source": [
    "## 5. Vector Dot Product\n",
    "**Syntax --> vector1.dot(vector2)**\n",
    "\n",
    "The vector dot product sums element-wise the products of two vectors. \n",
    "\n",
    "**vector c = x . y = (x1 * y1 + x2 * y2)**, \n",
    "\n",
    "it means that if we have one vector called *vec1* with params [x,y] and vector two called *vec2* with params [a,b] \n",
    "\n",
    "by using ***.dot*** function we recive equasion like this: *( x * a ) + ( y * b )*\n",
    "\n",
    "\n",
    "**Example:** \n",
    "\n",
    "**[1]** *vec1 = np.array([10,20]), vec2 = np.array([2,3])*\n",
    "\n",
    "**[2]** *result = vec1.dot(vec2)*\n",
    "\n",
    "*result steps:*\n",
    "* 10*2 \n",
    "* 20*3 \n",
    "* 20+60 \n",
    "* 80 \n"
   ]
  },
  {
   "cell_type": "code",
   "execution_count": 72,
   "metadata": {},
   "outputs": [
    {
     "data": {
      "text/plain": [
       "80"
      ]
     },
     "execution_count": 72,
     "metadata": {},
     "output_type": "execute_result"
    }
   ],
   "source": [
    "# Test above example\n",
    "vec1 = np.array([10,20])\n",
    "vec2 = np.array([2, 3])\n",
    "result = vec1.dot(vec2)\n",
    "result"
   ]
  },
  {
   "cell_type": "markdown",
   "metadata": {},
   "source": [
    "##### More examples"
   ]
  },
  {
   "cell_type": "code",
   "execution_count": 62,
   "metadata": {},
   "outputs": [
    {
     "data": {
      "text/plain": [
       "([10, 20, 30, 40, 50], [1, 1, 1, 1, 1])"
      ]
     },
     "execution_count": 62,
     "metadata": {},
     "output_type": "execute_result"
    }
   ],
   "source": [
    "test_data_list_1 = [10,20,30,40,50] \n",
    "test_data_list_2 = [1,1,1,1,1]\n",
    "\n",
    "test_data_list_1, test_data_list_2"
   ]
  },
  {
   "cell_type": "code",
   "execution_count": 60,
   "metadata": {},
   "outputs": [
    {
     "data": {
      "text/plain": [
       "(array([10, 20, 30, 40, 50]), array([2, 1, 1, 1, 1]))"
      ]
     },
     "execution_count": 60,
     "metadata": {},
     "output_type": "execute_result"
    }
   ],
   "source": [
    "vec1 = np.array(test_data_list_1)\n",
    "vec2 = np.array(test_data_list_2)\n",
    "\n",
    "vec1, vec2"
   ]
  },
  {
   "cell_type": "code",
   "execution_count": 61,
   "metadata": {},
   "outputs": [
    {
     "data": {
      "text/plain": [
       "160"
      ]
     },
     "execution_count": 61,
     "metadata": {},
     "output_type": "execute_result"
    }
   ],
   "source": [
    "vec_dot = vec1.dot(vec2)\n",
    "\n",
    "vec_dot"
   ]
  },
  {
   "cell_type": "code",
   "execution_count": 58,
   "metadata": {},
   "outputs": [
    {
     "data": {
      "text/plain": [
       "(150, 5)"
      ]
     },
     "execution_count": 58,
     "metadata": {},
     "output_type": "execute_result"
    }
   ],
   "source": [
    "# Check if summation its true\n",
    "sum1 = sum(test_data_list_1)\n",
    "sum2 = sum(test_data_list_2)\n",
    "\n",
    "sum1, sum2"
   ]
  },
  {
   "cell_type": "code",
   "execution_count": null,
   "metadata": {},
   "outputs": [],
   "source": []
  }
 ],
 "metadata": {
  "kernelspec": {
   "display_name": "Python 3",
   "language": "python",
   "name": "python3"
  },
  "language_info": {
   "codemirror_mode": {
    "name": "ipython",
    "version": 3
   },
   "file_extension": ".py",
   "mimetype": "text/x-python",
   "name": "python",
   "nbconvert_exporter": "python",
   "pygments_lexer": "ipython3",
   "version": "3.9.1"
  },
  "orig_nbformat": 4
 },
 "nbformat": 4,
 "nbformat_minor": 2
}
