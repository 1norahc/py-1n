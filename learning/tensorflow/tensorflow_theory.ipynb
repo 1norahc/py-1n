{
 "cells": [
  {
   "cell_type": "markdown",
   "metadata": {},
   "source": [
    "# Learn TensorFlow \n",
    "**What TensorFlow is?** \n",
    "* TensorFlow is library creating by Google Brain Team;\n",
    "* Is use mostly to create deep learning models, machine learning models, and artificial inteligence model;\n",
    "* Ensure tools to build and training neural networks, for both research and production research.\n",
    "\n",
    "**Applications of TensorFlow:**\n",
    "* TensorFlow is widely used in fields such as image recognition, natural language processing, data analysis, prediction and control;\n",
    "* It can be used for classification, object detection, segmentation, image generation, machine translation and many other tasks.\n",
    "\n",
    "**Pros of TensorFlow:**\n",
    "* It is very powerful, providing the ability to process large data sets;\n",
    "* It has comprehensive documentation and an active community, making it easy to learn and troubleshoot;\n",
    "* TensorFlow offers flexibility in building and training models, supporting different types of neural networks;\n",
    "* It has a rich ecosystem of tools and extensions, such as Keras, TensorFlow Hub and TensorFlow Serving.\n",
    "\n",
    "**Cons of TensorFlow:**\n",
    "* Compared to some other libraries, TensorFlow can sometimes be more complicated for novice users;\n",
    "* Because of the large number of functions and capabilities, it can be difficult to master fully.\n",
    "\n",
    "**What TensorFlow provides:**\n",
    "* TensorFlow allows the creation and training of complex machine learning models;\n",
    "* It provides tools to optimize models, test and deploy them in production environments;\n",
    "* Provides the ability to accelerate the learning process by using GPU or TPU;\n",
    "* Enables experimentation and iterative refinement of models to achieve better results.\n",
    "\n",
    "***In summary*** TensorFlow is a powerful library for machine learning and deep learning that offers many possibilities for creating advanced models. It has a wide range of applications in many fields and provides tools to effectively research, build and implement intelligent solutions."
   ]
  },
  {
   "cell_type": "markdown",
   "metadata": {},
   "source": [
    "### Importing package \n",
    "( Problemy z procesorami ARM )\n",
    "( Instalacja w różnych środowiskach )\n",
    "( Pod moduly TF )"
   ]
  },
  {
   "cell_type": "code",
   "execution_count": 1,
   "metadata": {},
   "outputs": [],
   "source": [
    "# Improt module\n",
    "import tensorflow as tf"
   ]
  },
  {
   "cell_type": "code",
   "execution_count": 2,
   "metadata": {},
   "outputs": [
    {
     "data": {
      "text/plain": [
       "'2.8.0'"
      ]
     },
     "execution_count": 2,
     "metadata": {},
     "output_type": "execute_result"
    }
   ],
   "source": [
    "# Check the version of the imported module\n",
    "tf.__version__\n"
   ]
  },
  {
   "cell_type": "code",
   "execution_count": null,
   "metadata": {},
   "outputs": [],
   "source": []
  }
 ],
 "metadata": {
  "kernelspec": {
   "display_name": "Python 3",
   "language": "python",
   "name": "python3"
  },
  "language_info": {
   "codemirror_mode": {
    "name": "ipython",
    "version": 3
   },
   "file_extension": ".py",
   "mimetype": "text/x-python",
   "name": "python",
   "nbconvert_exporter": "python",
   "pygments_lexer": "ipython3",
   "version": "3.9.1"
  }
 },
 "nbformat": 4,
 "nbformat_minor": 4
}
